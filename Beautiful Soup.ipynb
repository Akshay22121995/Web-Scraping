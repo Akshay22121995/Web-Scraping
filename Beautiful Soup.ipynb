{
 "cells": [
  {
   "cell_type": "markdown",
   "id": "caef4cb7",
   "metadata": {},
   "source": [
    "#  <font color = 'red'> <h1>bs4.element.Tag </font> do find_all on beautifulsoup object (i.e. Soup Tree) and then we will get <h1>vs<font color = 'red'> <h1> bs4.element.ResultSet</font> which is a similar to List and can access by index value"
   ]
  },
  {
   "cell_type": "markdown",
   "id": "8f8ae8fa",
   "metadata": {},
   "source": [
    "# <font color = 'cyan'>For Example\n",
    "### soup = BeautifulSoup(html_1, 'html.parser')\n",
    "\n",
    "- type(soup) #bs4.BeautifulSoup\n",
    "\n",
    "### do find_all on beautifulsoup object\n",
    "- th_all = soup.find_all('th')\n",
    "\n",
    "### the result is of type bs4.element.ResultSet or similarly list\n",
    "- type(th_all) #bs4.element.ResultSet\n",
    "- type(th_all[0:1]) #list\n",
    "\n",
    "### now I want to further do find_all\n",
    "- th_all.find_all(text='A') <font color = 'red'> #not work\n",
    "\n",
    "### can I avoid this need of loop?\n",
    "- for th in th_all:\n",
    " -   th.find_all(text='A') <font color = 'red'> #works"
   ]
  },
  {
   "cell_type": "markdown",
   "id": "76c8a0ea",
   "metadata": {},
   "source": [
    "## Beautiful Soup is a Python Library for pulling data out of HTML"
   ]
  },
  {
   "cell_type": "markdown",
   "id": "07955073",
   "metadata": {},
   "source": [
    "## This Libraby makes it easy to scrape information from web pages. It sits top on HTML or XML parser, providing pythonic idioms for iterating, searching and modifying the parser."
   ]
  },
  {
   "cell_type": "markdown",
   "id": "3936c415",
   "metadata": {},
   "source": [
    "### <font color = 'red'> Request is responsible for fetching the data from the Internet. \n",
    "###   <font color = 'red'>  Beautiful Soup(BS4) is responsible for parsing and extracting data from HTML."
   ]
  },
  {
   "cell_type": "code",
   "execution_count": 1,
   "id": "16d12d75",
   "metadata": {},
   "outputs": [],
   "source": [
    "from bs4 import BeautifulSoup\n",
    "import requests"
   ]
  },
  {
   "cell_type": "code",
   "execution_count": 32,
   "id": "03f45b40",
   "metadata": {},
   "outputs": [],
   "source": [
    "r = requests.get('https://quotes.toscrape.com/')"
   ]
  },
  {
   "cell_type": "code",
   "execution_count": 33,
   "id": "ad8484f0",
   "metadata": {},
   "outputs": [],
   "source": [
    "html = r.text"
   ]
  },
  {
   "cell_type": "markdown",
   "id": "52f520b9",
   "metadata": {},
   "source": [
    "### Here we have converted our HTML wep page to <font color=red> Beautiful Soup tree"
   ]
  },
  {
   "cell_type": "code",
   "execution_count": 34,
   "id": "cad8b520",
   "metadata": {},
   "outputs": [],
   "source": [
    "soup = BeautifulSoup(html,'html.parser')"
   ]
  },
  {
   "cell_type": "code",
   "execution_count": 35,
   "id": "fe5a66ab",
   "metadata": {},
   "outputs": [
    {
     "data": {
      "text/plain": [
       "bs4.BeautifulSoup"
      ]
     },
     "execution_count": 35,
     "metadata": {},
     "output_type": "execute_result"
    }
   ],
   "source": [
    "type(soup)"
   ]
  },
  {
   "cell_type": "code",
   "execution_count": 36,
   "id": "fe35ce3f",
   "metadata": {},
   "outputs": [
    {
     "data": {
      "text/plain": [
       "<title>Quotes to Scrape</title>"
      ]
     },
     "execution_count": 36,
     "metadata": {},
     "output_type": "execute_result"
    }
   ],
   "source": [
    "soup.title"
   ]
  },
  {
   "cell_type": "code",
   "execution_count": 37,
   "id": "a8423b42",
   "metadata": {},
   "outputs": [
    {
     "data": {
      "text/plain": [
       "'Quotes to Scrape'"
      ]
     },
     "execution_count": 37,
     "metadata": {},
     "output_type": "execute_result"
    }
   ],
   "source": [
    "soup.title.string"
   ]
  },
  {
   "cell_type": "code",
   "execution_count": 38,
   "id": "82de3ed5",
   "metadata": {},
   "outputs": [
    {
     "data": {
      "text/plain": [
       "<span class=\"text\" itemprop=\"text\">“The world as we have created it is a process of our thinking. It cannot be changed without changing our thinking.”</span>"
      ]
     },
     "execution_count": 38,
     "metadata": {},
     "output_type": "execute_result"
    }
   ],
   "source": [
    "soup.span # It will give first occurance of the span tag"
   ]
  },
  {
   "cell_type": "code",
   "execution_count": 39,
   "id": "0fc7e593",
   "metadata": {},
   "outputs": [
    {
     "data": {
      "text/plain": [
       "<head>\n",
       "<meta charset=\"utf-8\"/>\n",
       "<title>Quotes to Scrape</title>\n",
       "<link href=\"/static/bootstrap.min.css\" rel=\"stylesheet\"/>\n",
       "<link href=\"/static/main.css\" rel=\"stylesheet\"/>\n",
       "</head>"
      ]
     },
     "execution_count": 39,
     "metadata": {},
     "output_type": "execute_result"
    }
   ],
   "source": [
    "soup.title.parent"
   ]
  },
  {
   "cell_type": "code",
   "execution_count": 40,
   "id": "a8b2e57b",
   "metadata": {},
   "outputs": [
    {
     "data": {
      "text/plain": [
       "'head'"
      ]
     },
     "execution_count": 40,
     "metadata": {},
     "output_type": "execute_result"
    }
   ],
   "source": [
    "soup.title.parent.name"
   ]
  },
  {
   "cell_type": "markdown",
   "id": "58f4de96",
   "metadata": {},
   "source": [
    "### We can get any tag by using <font color=red> find_all"
   ]
  },
  {
   "cell_type": "code",
   "execution_count": 41,
   "id": "a3a8a568",
   "metadata": {
    "scrolled": true
   },
   "outputs": [
    {
     "data": {
      "text/plain": [
       "[<span class=\"text\" itemprop=\"text\">“The world as we have created it is a process of our thinking. It cannot be changed without changing our thinking.”</span>,\n",
       " <span>by <small class=\"author\" itemprop=\"author\">Albert Einstein</small>\n",
       " <a href=\"/author/Albert-Einstein\">(about)</a>\n",
       " </span>,\n",
       " <span class=\"text\" itemprop=\"text\">“It is our choices, Harry, that show what we truly are, far more than our abilities.”</span>,\n",
       " <span>by <small class=\"author\" itemprop=\"author\">J.K. Rowling</small>\n",
       " <a href=\"/author/J-K-Rowling\">(about)</a>\n",
       " </span>,\n",
       " <span class=\"text\" itemprop=\"text\">“There are only two ways to live your life. One is as though nothing is a miracle. The other is as though everything is a miracle.”</span>,\n",
       " <span>by <small class=\"author\" itemprop=\"author\">Albert Einstein</small>\n",
       " <a href=\"/author/Albert-Einstein\">(about)</a>\n",
       " </span>,\n",
       " <span class=\"text\" itemprop=\"text\">“The person, be it gentleman or lady, who has not pleasure in a good novel, must be intolerably stupid.”</span>,\n",
       " <span>by <small class=\"author\" itemprop=\"author\">Jane Austen</small>\n",
       " <a href=\"/author/Jane-Austen\">(about)</a>\n",
       " </span>,\n",
       " <span class=\"text\" itemprop=\"text\">“Imperfection is beauty, madness is genius and it's better to be absolutely ridiculous than absolutely boring.”</span>,\n",
       " <span>by <small class=\"author\" itemprop=\"author\">Marilyn Monroe</small>\n",
       " <a href=\"/author/Marilyn-Monroe\">(about)</a>\n",
       " </span>,\n",
       " <span class=\"text\" itemprop=\"text\">“Try not to become a man of success. Rather become a man of value.”</span>,\n",
       " <span>by <small class=\"author\" itemprop=\"author\">Albert Einstein</small>\n",
       " <a href=\"/author/Albert-Einstein\">(about)</a>\n",
       " </span>,\n",
       " <span class=\"text\" itemprop=\"text\">“It is better to be hated for what you are than to be loved for what you are not.”</span>,\n",
       " <span>by <small class=\"author\" itemprop=\"author\">André Gide</small>\n",
       " <a href=\"/author/Andre-Gide\">(about)</a>\n",
       " </span>,\n",
       " <span class=\"text\" itemprop=\"text\">“I have not failed. I've just found 10,000 ways that won't work.”</span>,\n",
       " <span>by <small class=\"author\" itemprop=\"author\">Thomas A. Edison</small>\n",
       " <a href=\"/author/Thomas-A-Edison\">(about)</a>\n",
       " </span>,\n",
       " <span class=\"text\" itemprop=\"text\">“A woman is like a tea bag; you never know how strong it is until it's in hot water.”</span>,\n",
       " <span>by <small class=\"author\" itemprop=\"author\">Eleanor Roosevelt</small>\n",
       " <a href=\"/author/Eleanor-Roosevelt\">(about)</a>\n",
       " </span>,\n",
       " <span class=\"text\" itemprop=\"text\">“A day without sunshine is like, you know, night.”</span>,\n",
       " <span>by <small class=\"author\" itemprop=\"author\">Steve Martin</small>\n",
       " <a href=\"/author/Steve-Martin\">(about)</a>\n",
       " </span>,\n",
       " <span aria-hidden=\"true\">→</span>,\n",
       " <span class=\"tag-item\">\n",
       " <a class=\"tag\" href=\"/tag/love/\" style=\"font-size: 28px\">love</a>\n",
       " </span>,\n",
       " <span class=\"tag-item\">\n",
       " <a class=\"tag\" href=\"/tag/inspirational/\" style=\"font-size: 26px\">inspirational</a>\n",
       " </span>,\n",
       " <span class=\"tag-item\">\n",
       " <a class=\"tag\" href=\"/tag/life/\" style=\"font-size: 26px\">life</a>\n",
       " </span>,\n",
       " <span class=\"tag-item\">\n",
       " <a class=\"tag\" href=\"/tag/humor/\" style=\"font-size: 24px\">humor</a>\n",
       " </span>,\n",
       " <span class=\"tag-item\">\n",
       " <a class=\"tag\" href=\"/tag/books/\" style=\"font-size: 22px\">books</a>\n",
       " </span>,\n",
       " <span class=\"tag-item\">\n",
       " <a class=\"tag\" href=\"/tag/reading/\" style=\"font-size: 14px\">reading</a>\n",
       " </span>,\n",
       " <span class=\"tag-item\">\n",
       " <a class=\"tag\" href=\"/tag/friendship/\" style=\"font-size: 10px\">friendship</a>\n",
       " </span>,\n",
       " <span class=\"tag-item\">\n",
       " <a class=\"tag\" href=\"/tag/friends/\" style=\"font-size: 8px\">friends</a>\n",
       " </span>,\n",
       " <span class=\"tag-item\">\n",
       " <a class=\"tag\" href=\"/tag/truth/\" style=\"font-size: 8px\">truth</a>\n",
       " </span>,\n",
       " <span class=\"tag-item\">\n",
       " <a class=\"tag\" href=\"/tag/simile/\" style=\"font-size: 6px\">simile</a>\n",
       " </span>,\n",
       " <span class=\"sh-red\">❤</span>]"
      ]
     },
     "execution_count": 41,
     "metadata": {},
     "output_type": "execute_result"
    }
   ],
   "source": [
    "soup.find_all('span')\n",
    "# It will gives us all the span tag in the web page"
   ]
  },
  {
   "cell_type": "code",
   "execution_count": 42,
   "id": "f3080abe",
   "metadata": {
    "scrolled": true
   },
   "outputs": [
    {
     "name": "stdout",
     "output_type": "stream",
     "text": [
      "<a href=\"/\" style=\"text-decoration: none\">Quotes to Scrape</a>\n",
      "<a href=\"/login\">Login</a>\n",
      "<a href=\"/author/Albert-Einstein\">(about)</a>\n",
      "<a class=\"tag\" href=\"/tag/change/page/1/\">change</a>\n",
      "<a class=\"tag\" href=\"/tag/deep-thoughts/page/1/\">deep-thoughts</a>\n",
      "<a class=\"tag\" href=\"/tag/thinking/page/1/\">thinking</a>\n",
      "<a class=\"tag\" href=\"/tag/world/page/1/\">world</a>\n",
      "<a href=\"/author/J-K-Rowling\">(about)</a>\n",
      "<a class=\"tag\" href=\"/tag/abilities/page/1/\">abilities</a>\n",
      "<a class=\"tag\" href=\"/tag/choices/page/1/\">choices</a>\n",
      "<a href=\"/author/Albert-Einstein\">(about)</a>\n",
      "<a class=\"tag\" href=\"/tag/inspirational/page/1/\">inspirational</a>\n",
      "<a class=\"tag\" href=\"/tag/life/page/1/\">life</a>\n",
      "<a class=\"tag\" href=\"/tag/live/page/1/\">live</a>\n",
      "<a class=\"tag\" href=\"/tag/miracle/page/1/\">miracle</a>\n",
      "<a class=\"tag\" href=\"/tag/miracles/page/1/\">miracles</a>\n",
      "<a href=\"/author/Jane-Austen\">(about)</a>\n",
      "<a class=\"tag\" href=\"/tag/aliteracy/page/1/\">aliteracy</a>\n",
      "<a class=\"tag\" href=\"/tag/books/page/1/\">books</a>\n",
      "<a class=\"tag\" href=\"/tag/classic/page/1/\">classic</a>\n",
      "<a class=\"tag\" href=\"/tag/humor/page/1/\">humor</a>\n",
      "<a href=\"/author/Marilyn-Monroe\">(about)</a>\n",
      "<a class=\"tag\" href=\"/tag/be-yourself/page/1/\">be-yourself</a>\n",
      "<a class=\"tag\" href=\"/tag/inspirational/page/1/\">inspirational</a>\n",
      "<a href=\"/author/Albert-Einstein\">(about)</a>\n",
      "<a class=\"tag\" href=\"/tag/adulthood/page/1/\">adulthood</a>\n",
      "<a class=\"tag\" href=\"/tag/success/page/1/\">success</a>\n",
      "<a class=\"tag\" href=\"/tag/value/page/1/\">value</a>\n",
      "<a href=\"/author/Andre-Gide\">(about)</a>\n",
      "<a class=\"tag\" href=\"/tag/life/page/1/\">life</a>\n",
      "<a class=\"tag\" href=\"/tag/love/page/1/\">love</a>\n",
      "<a href=\"/author/Thomas-A-Edison\">(about)</a>\n",
      "<a class=\"tag\" href=\"/tag/edison/page/1/\">edison</a>\n",
      "<a class=\"tag\" href=\"/tag/failure/page/1/\">failure</a>\n",
      "<a class=\"tag\" href=\"/tag/inspirational/page/1/\">inspirational</a>\n",
      "<a class=\"tag\" href=\"/tag/paraphrased/page/1/\">paraphrased</a>\n",
      "<a href=\"/author/Eleanor-Roosevelt\">(about)</a>\n",
      "<a class=\"tag\" href=\"/tag/misattributed-eleanor-roosevelt/page/1/\">misattributed-eleanor-roosevelt</a>\n",
      "<a href=\"/author/Steve-Martin\">(about)</a>\n",
      "<a class=\"tag\" href=\"/tag/humor/page/1/\">humor</a>\n",
      "<a class=\"tag\" href=\"/tag/obvious/page/1/\">obvious</a>\n",
      "<a class=\"tag\" href=\"/tag/simile/page/1/\">simile</a>\n",
      "<a href=\"/page/2/\">Next <span aria-hidden=\"true\">→</span></a>\n",
      "<a class=\"tag\" href=\"/tag/love/\" style=\"font-size: 28px\">love</a>\n",
      "<a class=\"tag\" href=\"/tag/inspirational/\" style=\"font-size: 26px\">inspirational</a>\n",
      "<a class=\"tag\" href=\"/tag/life/\" style=\"font-size: 26px\">life</a>\n",
      "<a class=\"tag\" href=\"/tag/humor/\" style=\"font-size: 24px\">humor</a>\n",
      "<a class=\"tag\" href=\"/tag/books/\" style=\"font-size: 22px\">books</a>\n",
      "<a class=\"tag\" href=\"/tag/reading/\" style=\"font-size: 14px\">reading</a>\n",
      "<a class=\"tag\" href=\"/tag/friendship/\" style=\"font-size: 10px\">friendship</a>\n",
      "<a class=\"tag\" href=\"/tag/friends/\" style=\"font-size: 8px\">friends</a>\n",
      "<a class=\"tag\" href=\"/tag/truth/\" style=\"font-size: 8px\">truth</a>\n",
      "<a class=\"tag\" href=\"/tag/simile/\" style=\"font-size: 6px\">simile</a>\n",
      "<a href=\"https://www.goodreads.com/quotes\">GoodReads.com</a>\n",
      "<a href=\"https://scrapinghub.com\">Scrapinghub</a>\n"
     ]
    }
   ],
   "source": [
    "for tag in soup.find_all('a'):\n",
    "    print(tag)\n",
    "# Here we print all the anchor tags"
   ]
  },
  {
   "cell_type": "markdown",
   "id": "99b885f2",
   "metadata": {},
   "source": [
    "## We can fetch particular data by using Attribute and its value using following function"
   ]
  },
  {
   "cell_type": "code",
   "execution_count": 43,
   "id": "c0c01433",
   "metadata": {},
   "outputs": [],
   "source": [
    "for tag in soup.find_all('span',{'class':'author'}):\n",
    "    print(tag.string) #'.string' gives us the text without tags"
   ]
  },
  {
   "cell_type": "code",
   "execution_count": 44,
   "id": "26f3d795",
   "metadata": {
    "scrolled": true
   },
   "outputs": [],
   "source": [
    "with open('bs4quoets.txt','w') as f:\n",
    "    for tag in soup.find_all('span',{'class':'text'}):\n",
    "        f.write(tag.string)\n",
    "        f.write('\\n')"
   ]
  },
  {
   "cell_type": "markdown",
   "id": "b2a29da9",
   "metadata": {},
   "source": [
    "### Extracting Author names and save them in CSV file"
   ]
  },
  {
   "cell_type": "code",
   "execution_count": 45,
   "id": "8a50997f",
   "metadata": {},
   "outputs": [],
   "source": [
    "with open('bs4 Author Names.csv','w') as f:\n",
    "        for author in soup.find_all('small',{'class':'author'}):\n",
    "            f.write(author.string)\n",
    "            f.write('\\n')"
   ]
  },
  {
   "cell_type": "markdown",
   "id": "62e5cf89",
   "metadata": {},
   "source": [
    "### We can create our own HTML tags and give it to Beautiful Soup and fetch data from it"
   ]
  },
  {
   "cell_type": "code",
   "execution_count": 46,
   "id": "27324d61",
   "metadata": {},
   "outputs": [],
   "source": [
    "from bs4 import BeautifulSoup"
   ]
  },
  {
   "cell_type": "code",
   "execution_count": 47,
   "id": "0a82674c",
   "metadata": {},
   "outputs": [],
   "source": [
    "html = '<b id=\"xyz\" class=\"abc\"> Hello Akshay </b><span></span><span></span>'\n",
    "# Here id, class are the attributes of the 'tag b' and other some other tag like 'span'"
   ]
  },
  {
   "cell_type": "code",
   "execution_count": 48,
   "id": "408bb529",
   "metadata": {},
   "outputs": [],
   "source": [
    "soup = BeautifulSoup(html,'html.parser')"
   ]
  },
  {
   "cell_type": "code",
   "execution_count": 49,
   "id": "5a486b18",
   "metadata": {},
   "outputs": [
    {
     "data": {
      "text/plain": [
       "<b class=\"abc\" id=\"xyz\"> Hello Akshay </b><span></span><span></span>"
      ]
     },
     "execution_count": 49,
     "metadata": {},
     "output_type": "execute_result"
    }
   ],
   "source": [
    "soup"
   ]
  },
  {
   "cell_type": "code",
   "execution_count": 50,
   "id": "488dc885",
   "metadata": {},
   "outputs": [
    {
     "name": "stdout",
     "output_type": "stream",
     "text": [
      "<b class=\"abc\" id=\"xyz\"> Hello Akshay </b>\n"
     ]
    }
   ],
   "source": [
    "print(soup.b)"
   ]
  },
  {
   "cell_type": "code",
   "execution_count": 51,
   "id": "c810bf59",
   "metadata": {},
   "outputs": [
    {
     "name": "stdout",
     "output_type": "stream",
     "text": [
      " Hello Akshay \n"
     ]
    }
   ],
   "source": [
    "print(soup.b.string)"
   ]
  },
  {
   "cell_type": "code",
   "execution_count": 52,
   "id": "40ec85e5",
   "metadata": {},
   "outputs": [
    {
     "name": "stdout",
     "output_type": "stream",
     "text": [
      "<b class=\"abc\" id=\"xyz\"> Hello Akshay </b>\n"
     ]
    }
   ],
   "source": [
    "tag = soup.b\n",
    "print(tag)"
   ]
  },
  {
   "cell_type": "code",
   "execution_count": 53,
   "id": "6595fbb0",
   "metadata": {},
   "outputs": [
    {
     "name": "stdout",
     "output_type": "stream",
     "text": [
      "xyz\n"
     ]
    }
   ],
   "source": [
    "print(tag['id'])# Here id is single attribute"
   ]
  },
  {
   "cell_type": "code",
   "execution_count": 54,
   "id": "c7dd20a9",
   "metadata": {},
   "outputs": [
    {
     "name": "stdout",
     "output_type": "stream",
     "text": [
      "['abc']\n"
     ]
    }
   ],
   "source": [
    "print(tag['class']) # Here class is multivalue attribute so we get it as list"
   ]
  },
  {
   "cell_type": "code",
   "execution_count": 55,
   "id": "45c3c40d",
   "metadata": {},
   "outputs": [
    {
     "name": "stdout",
     "output_type": "stream",
     "text": [
      "{'id': 'xyz', 'class': ['abc']}\n"
     ]
    }
   ],
   "source": [
    "print(tag.attrs) # It will give us Dictionary of key value pairs of that attribute of that particular tags"
   ]
  },
  {
   "cell_type": "code",
   "execution_count": 56,
   "id": "82f50eca",
   "metadata": {},
   "outputs": [
    {
     "name": "stdout",
     "output_type": "stream",
     "text": [
      "<b class=\"abc\" id=\"xyz\"> Hello Akshay </b>\n",
      "<b class=\"abc\" id=\"Hi\"> Hello Akshay </b>\n"
     ]
    }
   ],
   "source": [
    "print(tag)\n",
    "tag['id'] = 'Hi' # we can also change the attribute values \n",
    "print(tag)"
   ]
  },
  {
   "cell_type": "code",
   "execution_count": 57,
   "id": "7c7aa397",
   "metadata": {},
   "outputs": [
    {
     "name": "stdout",
     "output_type": "stream",
     "text": [
      "<b class=\"abc\" id=\"Hi\"> Hello Akshay </b>\n",
      "<b class=\"Welcome\" id=\"Hi\"> Hello Akshay </b>\n"
     ]
    }
   ],
   "source": [
    "print(tag)\n",
    "tag['class'] = 'Welcome' # we can also change the attribute values \n",
    "print(tag)"
   ]
  },
  {
   "cell_type": "markdown",
   "id": "fd932674",
   "metadata": {},
   "source": [
    "### If we want to remove multi value attribute and make it as single value class then we can also do this "
   ]
  },
  {
   "cell_type": "code",
   "execution_count": 58,
   "id": "e8e664cb",
   "metadata": {},
   "outputs": [],
   "source": [
    "html = '<b id=\"xyz\" class=\"abc 123 \"> Hello Akshay </b><span></span><span></span>'\n",
    "soup = BeautifulSoup(html,'html.parser',multi_valued_attributes=None)"
   ]
  },
  {
   "cell_type": "code",
   "execution_count": 59,
   "id": "7d75ff20",
   "metadata": {},
   "outputs": [],
   "source": [
    "tag = soup.b"
   ]
  },
  {
   "cell_type": "code",
   "execution_count": 60,
   "id": "33a6b132",
   "metadata": {},
   "outputs": [
    {
     "data": {
      "text/plain": [
       "'abc 123 '"
      ]
     },
     "execution_count": 60,
     "metadata": {},
     "output_type": "execute_result"
    }
   ],
   "source": [
    "tag['class']"
   ]
  },
  {
   "cell_type": "markdown",
   "id": "1cb59f90",
   "metadata": {},
   "source": [
    "# Extracting data from IMDB website"
   ]
  },
  {
   "cell_type": "code",
   "execution_count": 61,
   "id": "af485fa0",
   "metadata": {},
   "outputs": [],
   "source": [
    "import requests"
   ]
  },
  {
   "cell_type": "code",
   "execution_count": 62,
   "id": "71d298ff",
   "metadata": {},
   "outputs": [],
   "source": [
    "r = requests.get('https://www.imdb.com/chart/top/')"
   ]
  },
  {
   "cell_type": "code",
   "execution_count": 63,
   "id": "7575e4c1",
   "metadata": {},
   "outputs": [],
   "source": [
    "html = r.text"
   ]
  },
  {
   "cell_type": "code",
   "execution_count": 64,
   "id": "1d0ea3e6",
   "metadata": {},
   "outputs": [],
   "source": [
    "soup = BeautifulSoup(html,'html.parser')"
   ]
  },
  {
   "cell_type": "code",
   "execution_count": 65,
   "id": "db7d2b3e",
   "metadata": {},
   "outputs": [],
   "source": [
    "tbody = soup.find('tbody',{'class':'lister-list'})"
   ]
  },
  {
   "cell_type": "code",
   "execution_count": 66,
   "id": "fcedfc6f",
   "metadata": {},
   "outputs": [],
   "source": [
    "table_rows = tbody.findAll('tr')"
   ]
  },
  {
   "cell_type": "code",
   "execution_count": 67,
   "id": "c7d01e83",
   "metadata": {},
   "outputs": [
    {
     "name": "stdout",
     "output_type": "stream",
     "text": [
      "The Shawshank Redemption (1994)\n",
      "The Godfather (1972)\n",
      "The Dark Knight (2008)\n",
      "The Godfather: Part II (1974)\n",
      "12 Angry Men (1957)\n",
      "Schindler's List (1993)\n",
      "The Lord of the Rings: The Return of the King (2003)\n",
      "Pulp Fiction (1994)\n",
      "The Lord of the Rings: The Fellowship of the Ring (2001)\n",
      "Il buono, il brutto, il cattivo (1966)\n",
      "Forrest Gump (1994)\n",
      "Fight Club (1999)\n",
      "Inception (2010)\n",
      "The Lord of the Rings: The Two Towers (2002)\n",
      "The Empire Strikes Back (1980)\n",
      "The Matrix (1999)\n",
      "Goodfellas (1990)\n",
      "One Flew Over the Cuckoo's Nest (1975)\n",
      "Se7en (1995)\n",
      "Shichinin no samurai (1954)\n",
      "It's a Wonderful Life (1946)\n",
      "The Silence of the Lambs (1991)\n",
      "Saving Private Ryan (1998)\n",
      "Cidade de Deus (2002)\n",
      "La vita è bella (1997)\n",
      "The Green Mile (1999)\n",
      "Interstellar (2014)\n",
      "Star Wars (1977)\n",
      "Terminator 2: Judgment Day (1991)\n",
      "Back to the Future (1985)\n",
      "Sen to Chihiro no kamikakushi (2001)\n",
      "Psycho (1960)\n",
      "The Pianist (2002)\n",
      "Léon (1994)\n",
      "Gisaengchung (2019)\n",
      "The Lion King (1994)\n",
      "Gladiator (2000)\n",
      "American History X (1998)\n",
      "The Usual Suspects (1995)\n",
      "The Departed (2006)\n",
      "The Prestige (2006)\n",
      "Casablanca (1942)\n",
      "Whiplash (2014)\n",
      "The Intouchables (2011)\n",
      "Modern Times (1936)\n",
      "Once Upon a Time in the West (1968)\n",
      "Seppuku (1962)\n",
      "Hotaru no haka (1988)\n",
      "Alien (1979)\n",
      "Rear Window (1954)\n",
      "City Lights (1931)\n",
      "Memento (2000)\n",
      "Nuovo Cinema Paradiso (1988)\n",
      "Apocalypse Now (1979)\n",
      "Raiders of the Lost Ark (1981)\n",
      "Django Unchained (2012)\n",
      "WALL·E (2008)\n",
      "The Lives of Others (2006)\n",
      "Sunset Blvd. (1950)\n",
      "The Shining (1980)\n",
      "Paths of Glory (1957)\n",
      "The Great Dictator (1940)\n",
      "Avengers: Infinity War (2018)\n",
      "Witness for the Prosecution (1957)\n",
      "Aliens (1986)\n",
      "American Beauty (1999)\n",
      "The Dark Knight Rises (2012)\n",
      "Dr. Strangelove or: How I Learned to Stop Worrying and Love the Bomb (1964)\n",
      "Spider-Man: Into the Spider-Verse (2018)\n",
      "Joker (2019)\n",
      "Oldeuboi (2003)\n",
      "Braveheart (1995)\n",
      "Toy Story (1995)\n",
      "Amadeus (1984)\n",
      "Coco (2017)\n",
      "Inglourious Basterds (2009)\n",
      "Das Boot (1981)\n",
      "Avengers: Endgame (2019)\n",
      "Mononoke-hime (1997)\n",
      "Once Upon a Time in America (1984)\n",
      "Spider-Man: No Way Home (2021)\n",
      "Good Will Hunting (1997)\n",
      "Toy Story 3 (2010)\n",
      "Requiem for a Dream (2000)\n",
      "3 Idiots (2009)\n",
      "Kimi no na wa. (2016)\n",
      "Singin' in the Rain (1952)\n",
      "Star Wars: Episode VI - Return of the Jedi (1983)\n",
      "Reservoir Dogs (1992)\n",
      "Eternal Sunshine of the Spotless Mind (2004)\n",
      "2001: A Space Odyssey (1968)\n",
      "Tengoku to jigoku (1963)\n",
      "Citizen Kane (1941)\n",
      "Capharnaüm (2018)\n",
      "Lawrence of Arabia (1962)\n",
      "M - Eine Stadt sucht einen Mörder (1931)\n",
      "North by Northwest (1959)\n",
      "Jagten (2012)\n",
      "Vertigo (1958)\n",
      "Le fabuleux destin d'Amélie Poulain (2001)\n",
      "A Clockwork Orange (1971)\n",
      "Full Metal Jacket (1987)\n",
      "Scarface (1983)\n",
      "Idi i smotri (1985)\n",
      "Double Indemnity (1944)\n",
      "The Apartment (1960)\n",
      "Taxi Driver (1976)\n",
      "To Kill a Mockingbird (1962)\n",
      "Up (2009)\n",
      "The Sting (1973)\n",
      "L.A. Confidential (1997)\n",
      "Hamilton (2020)\n",
      "Heat (1995)\n",
      "Ikiru (1952)\n",
      "Snatch (2000)\n",
      "Die Hard (1988)\n",
      "Indiana Jones and the Last Crusade (1989)\n",
      "Jodaeiye Nader az Simin (2011)\n",
      "Metropolis (1927)\n",
      "Incendies (2010)\n",
      "Ladri di biciclette (1948)\n",
      "1917 (2019)\n",
      "Taare Zameen Par (2007)\n",
      "Batman Begins (2005)\n",
      "Per qualche dollaro in più (1965)\n",
      "Dangal (2016)\n",
      "Der Untergang (2004)\n",
      "The Kid (1921)\n",
      "Some Like It Hot (1959)\n",
      "The Father (2020)\n",
      "All About Eve (1950)\n",
      "The Wolf of Wall Street (2013)\n",
      "Green Book (2018)\n",
      "The Batman (2022)\n",
      "Casino (1995)\n",
      "Unforgiven (1992)\n",
      "Judgment at Nuremberg (1961)\n",
      "Pan's Labyrinth (2006)\n",
      "Ran (1985)\n",
      "A Beautiful Mind (2001)\n",
      "The Sixth Sense (1999)\n",
      "There Will Be Blood (2007)\n",
      "Monty Python and the Holy Grail (1975)\n",
      "The Truman Show (1998)\n",
      "Yôjinbô (1961)\n",
      "The Treasure of the Sierra Madre (1948)\n",
      "Shutter Island (2010)\n",
      "The Great Escape (1963)\n",
      "Rashômon (1950)\n",
      "Jurassic Park (1993)\n",
      "Kill Bill: Vol. 1 (2003)\n",
      "No Country for Old Men (2007)\n",
      "Finding Nemo (2003)\n",
      "Raging Bull (1980)\n",
      "The Elephant Man (1980)\n",
      "V for Vendetta (2005)\n",
      "Gone with the Wind (1939)\n",
      "Chinatown (1974)\n",
      "Inside Out (2015)\n",
      "Lock, Stock and Two Smoking Barrels (1998)\n",
      "The Thing (1982)\n",
      "Dial M for Murder (1954)\n",
      "Hauru no ugoku shiro (2004)\n",
      "El secreto de sus ojos (2009)\n",
      "The Bridge on the River Kwai (1957)\n",
      "Trainspotting (1996)\n",
      "Three Billboards Outside Ebbing, Missouri (2017)\n",
      "Warrior (2011)\n",
      "Gran Torino (2008)\n",
      "Fargo (1996)\n",
      "Tonari no Totoro (1988)\n",
      "Prisoners (2013)\n",
      "Million Dollar Baby (2004)\n",
      "Catch Me If You Can (2002)\n",
      "Blade Runner (1982)\n",
      "The Gold Rush (1925)\n",
      "On the Waterfront (1954)\n",
      "Bacheha-Ye aseman (1997)\n",
      "Harry Potter and the Deathly Hallows: Part 2 (2011)\n",
      "The Third Man (1949)\n",
      "Gone Girl (2014)\n",
      "Ben-Hur (1959)\n",
      "12 Years a Slave (2013)\n",
      "The Deer Hunter (1978)\n",
      "The General (1926)\n",
      "Before Sunrise (1995)\n",
      "Smultronstället (1957)\n",
      "In the Name of the Father (1993)\n",
      "The Grand Budapest Hotel (2014)\n",
      "Mr. Smith Goes to Washington (1939)\n",
      "Room (2015)\n",
      "Hacksaw Ridge (2016)\n",
      "Sherlock Jr. (1924)\n",
      "How to Train Your Dragon (2010)\n",
      "Le salaire de la peur (1953)\n",
      "Salinui chueok (2003)\n",
      "Barry Lyndon (1975)\n",
      "Klaus (2019)\n",
      "Det sjunde inseglet (1957)\n",
      "Pather Panchali (1955)\n",
      "Mad Max: Fury Road (2015)\n",
      "The Big Lebowski (1998)\n",
      "Relatos salvajes (2014)\n",
      "Monsters, Inc. (2001)\n",
      "Mary and Max. (2009)\n",
      "Jaws (1975)\n",
      "La passion de Jeanne d'Arc (1928)\n",
      "Hotel Rwanda (2004)\n",
      "Rocky (1976)\n",
      "Dead Poets Society (1989)\n",
      "Tôkyô monogatari (1953)\n",
      "Platoon (1986)\n",
      "Ford v Ferrari (2019)\n",
      "The Terminator (1984)\n",
      "Stand by Me (1986)\n",
      "Rush (2013)\n",
      "Into the Wild (2007)\n",
      "Logan (2017)\n",
      "The Wizard of Oz (1939)\n",
      "Spotlight (2015)\n",
      "Network (1976)\n",
      "Groundhog Day (1993)\n",
      "Ratatouille (2007)\n",
      "The Exorcist (1973)\n",
      "Hachi: A Dog's Tale (2009)\n",
      "The Incredibles (2004)\n",
      "Before Sunset (2004)\n",
      "The Best Years of Our Lives (1946)\n",
      "Rebecca (1940)\n",
      "Babam ve Oglum (2005)\n",
      "Dersu Uzala (1975)\n",
      "Cool Hand Luke (1967)\n",
      "Pirates of the Caribbean: The Curse of the Black Pearl (2003)\n",
      "To Be or Not to Be (1942)\n",
      "The Grapes of Wrath (1940)\n",
      "La battaglia di Algeri (1966)\n",
      "Amores perros (2000)\n",
      "The Sound of Music (1965)\n",
      "Life of Brian (1979)\n",
      "Les quatre cents coups (1959)\n",
      "Persona (1966)\n",
      "It Happened One Night (1934)\n",
      "La haine (1995)\n",
      "Aladdin (1992)\n",
      "Beauty and the Beast (1991)\n",
      "Gandhi (1982)\n",
      "The Help (2011)\n",
      "Dune: Part One (2021)\n",
      "Ah-ga-ssi (2016)\n",
      "Jai Bhim (2021)\n"
     ]
    }
   ],
   "source": [
    "for tr in table_rows:\n",
    "    table_data = tr.find('td',{'class':'titleColumn'})\n",
    "    print(table_data.a.string, table_data.span.string)"
   ]
  },
  {
   "cell_type": "markdown",
   "id": "434e70ec",
   "metadata": {},
   "source": [
    "### Extracting the Rating along with name and year and save it"
   ]
  },
  {
   "cell_type": "code",
   "execution_count": 68,
   "id": "a419799f",
   "metadata": {},
   "outputs": [],
   "source": [
    "with open('IMDB Top Movies.csv', 'w') as f:\n",
    "    for tr in table_rows:\n",
    "        movie_data = tr.find('td',{'class':'titleColumn'})\n",
    "        rating_data = tr.find('td',{'class':'ratingColumn imdbRating'})\n",
    "        f.write(movie_data.a.string+\" , \"+ movie_data.span.string+\" |  Rating : \"+rating_data.strong.string)\n",
    "        f.write('\\n')"
   ]
  },
  {
   "cell_type": "markdown",
   "id": "38f000d9",
   "metadata": {},
   "source": [
    "# We want some other information about movie but it is on the other page so we have to access that URL\n",
    "- Here we have just extract the URL of the other page"
   ]
  },
  {
   "cell_type": "code",
   "execution_count": 69,
   "id": "8362f6bc",
   "metadata": {},
   "outputs": [
    {
     "name": "stdout",
     "output_type": "stream",
     "text": [
      "https://www.imdb.com//title/tt0111161/\n",
      "https://www.imdb.com//title/tt0068646/\n",
      "https://www.imdb.com//title/tt0468569/\n",
      "https://www.imdb.com//title/tt0071562/\n",
      "https://www.imdb.com//title/tt0050083/\n",
      "https://www.imdb.com//title/tt0108052/\n",
      "https://www.imdb.com//title/tt0167260/\n",
      "https://www.imdb.com//title/tt0110912/\n",
      "https://www.imdb.com//title/tt0120737/\n",
      "https://www.imdb.com//title/tt0060196/\n",
      "https://www.imdb.com//title/tt0109830/\n",
      "https://www.imdb.com//title/tt0137523/\n",
      "https://www.imdb.com//title/tt1375666/\n",
      "https://www.imdb.com//title/tt0167261/\n",
      "https://www.imdb.com//title/tt0080684/\n",
      "https://www.imdb.com//title/tt0133093/\n",
      "https://www.imdb.com//title/tt0099685/\n",
      "https://www.imdb.com//title/tt0073486/\n",
      "https://www.imdb.com//title/tt0114369/\n",
      "https://www.imdb.com//title/tt0047478/\n",
      "https://www.imdb.com//title/tt0038650/\n",
      "https://www.imdb.com//title/tt0102926/\n",
      "https://www.imdb.com//title/tt0120815/\n",
      "https://www.imdb.com//title/tt0317248/\n",
      "https://www.imdb.com//title/tt0118799/\n",
      "https://www.imdb.com//title/tt0120689/\n",
      "https://www.imdb.com//title/tt0816692/\n",
      "https://www.imdb.com//title/tt0076759/\n",
      "https://www.imdb.com//title/tt0103064/\n",
      "https://www.imdb.com//title/tt0088763/\n",
      "https://www.imdb.com//title/tt0245429/\n",
      "https://www.imdb.com//title/tt0054215/\n",
      "https://www.imdb.com//title/tt0253474/\n",
      "https://www.imdb.com//title/tt0110413/\n",
      "https://www.imdb.com//title/tt6751668/\n",
      "https://www.imdb.com//title/tt0110357/\n",
      "https://www.imdb.com//title/tt0172495/\n",
      "https://www.imdb.com//title/tt0120586/\n",
      "https://www.imdb.com//title/tt0114814/\n",
      "https://www.imdb.com//title/tt0407887/\n",
      "https://www.imdb.com//title/tt0482571/\n",
      "https://www.imdb.com//title/tt0034583/\n",
      "https://www.imdb.com//title/tt2582802/\n",
      "https://www.imdb.com//title/tt1675434/\n",
      "https://www.imdb.com//title/tt0027977/\n",
      "https://www.imdb.com//title/tt0064116/\n",
      "https://www.imdb.com//title/tt0056058/\n",
      "https://www.imdb.com//title/tt0095327/\n",
      "https://www.imdb.com//title/tt0078748/\n",
      "https://www.imdb.com//title/tt0047396/\n",
      "https://www.imdb.com//title/tt0021749/\n",
      "https://www.imdb.com//title/tt0209144/\n",
      "https://www.imdb.com//title/tt0095765/\n",
      "https://www.imdb.com//title/tt0078788/\n",
      "https://www.imdb.com//title/tt0082971/\n",
      "https://www.imdb.com//title/tt1853728/\n",
      "https://www.imdb.com//title/tt0910970/\n",
      "https://www.imdb.com//title/tt0405094/\n",
      "https://www.imdb.com//title/tt0043014/\n",
      "https://www.imdb.com//title/tt0081505/\n",
      "https://www.imdb.com//title/tt0050825/\n",
      "https://www.imdb.com//title/tt0032553/\n",
      "https://www.imdb.com//title/tt4154756/\n",
      "https://www.imdb.com//title/tt0051201/\n",
      "https://www.imdb.com//title/tt0090605/\n",
      "https://www.imdb.com//title/tt0169547/\n",
      "https://www.imdb.com//title/tt1345836/\n",
      "https://www.imdb.com//title/tt0057012/\n",
      "https://www.imdb.com//title/tt4633694/\n",
      "https://www.imdb.com//title/tt7286456/\n",
      "https://www.imdb.com//title/tt0364569/\n",
      "https://www.imdb.com//title/tt0112573/\n",
      "https://www.imdb.com//title/tt0114709/\n",
      "https://www.imdb.com//title/tt0086879/\n",
      "https://www.imdb.com//title/tt2380307/\n",
      "https://www.imdb.com//title/tt0361748/\n",
      "https://www.imdb.com//title/tt0082096/\n",
      "https://www.imdb.com//title/tt4154796/\n",
      "https://www.imdb.com//title/tt0119698/\n",
      "https://www.imdb.com//title/tt0087843/\n",
      "https://www.imdb.com//title/tt10872600/\n",
      "https://www.imdb.com//title/tt0119217/\n",
      "https://www.imdb.com//title/tt0435761/\n",
      "https://www.imdb.com//title/tt0180093/\n",
      "https://www.imdb.com//title/tt1187043/\n",
      "https://www.imdb.com//title/tt5311514/\n",
      "https://www.imdb.com//title/tt0045152/\n",
      "https://www.imdb.com//title/tt0086190/\n",
      "https://www.imdb.com//title/tt0105236/\n",
      "https://www.imdb.com//title/tt0338013/\n",
      "https://www.imdb.com//title/tt0062622/\n",
      "https://www.imdb.com//title/tt0057565/\n",
      "https://www.imdb.com//title/tt0033467/\n",
      "https://www.imdb.com//title/tt8267604/\n",
      "https://www.imdb.com//title/tt0056172/\n",
      "https://www.imdb.com//title/tt0022100/\n",
      "https://www.imdb.com//title/tt0053125/\n",
      "https://www.imdb.com//title/tt2106476/\n",
      "https://www.imdb.com//title/tt0052357/\n",
      "https://www.imdb.com//title/tt0211915/\n",
      "https://www.imdb.com//title/tt0066921/\n",
      "https://www.imdb.com//title/tt0093058/\n",
      "https://www.imdb.com//title/tt0086250/\n",
      "https://www.imdb.com//title/tt0091251/\n",
      "https://www.imdb.com//title/tt0036775/\n",
      "https://www.imdb.com//title/tt0053604/\n",
      "https://www.imdb.com//title/tt0075314/\n",
      "https://www.imdb.com//title/tt0056592/\n",
      "https://www.imdb.com//title/tt1049413/\n",
      "https://www.imdb.com//title/tt0070735/\n",
      "https://www.imdb.com//title/tt0119488/\n",
      "https://www.imdb.com//title/tt8503618/\n",
      "https://www.imdb.com//title/tt0113277/\n",
      "https://www.imdb.com//title/tt0044741/\n",
      "https://www.imdb.com//title/tt0208092/\n",
      "https://www.imdb.com//title/tt0095016/\n",
      "https://www.imdb.com//title/tt0097576/\n",
      "https://www.imdb.com//title/tt1832382/\n",
      "https://www.imdb.com//title/tt0017136/\n",
      "https://www.imdb.com//title/tt1255953/\n",
      "https://www.imdb.com//title/tt0040522/\n",
      "https://www.imdb.com//title/tt8579674/\n",
      "https://www.imdb.com//title/tt0986264/\n",
      "https://www.imdb.com//title/tt0372784/\n",
      "https://www.imdb.com//title/tt0059578/\n",
      "https://www.imdb.com//title/tt5074352/\n",
      "https://www.imdb.com//title/tt0363163/\n",
      "https://www.imdb.com//title/tt0012349/\n",
      "https://www.imdb.com//title/tt0053291/\n",
      "https://www.imdb.com//title/tt10272386/\n",
      "https://www.imdb.com//title/tt0042192/\n",
      "https://www.imdb.com//title/tt0993846/\n",
      "https://www.imdb.com//title/tt6966692/\n",
      "https://www.imdb.com//title/tt1877830/\n",
      "https://www.imdb.com//title/tt0112641/\n",
      "https://www.imdb.com//title/tt0105695/\n",
      "https://www.imdb.com//title/tt0055031/\n",
      "https://www.imdb.com//title/tt0457430/\n",
      "https://www.imdb.com//title/tt0089881/\n",
      "https://www.imdb.com//title/tt0268978/\n",
      "https://www.imdb.com//title/tt0167404/\n",
      "https://www.imdb.com//title/tt0469494/\n",
      "https://www.imdb.com//title/tt0071853/\n",
      "https://www.imdb.com//title/tt0120382/\n",
      "https://www.imdb.com//title/tt0055630/\n",
      "https://www.imdb.com//title/tt0040897/\n",
      "https://www.imdb.com//title/tt1130884/\n",
      "https://www.imdb.com//title/tt0057115/\n",
      "https://www.imdb.com//title/tt0042876/\n",
      "https://www.imdb.com//title/tt0107290/\n",
      "https://www.imdb.com//title/tt0266697/\n",
      "https://www.imdb.com//title/tt0477348/\n",
      "https://www.imdb.com//title/tt0266543/\n",
      "https://www.imdb.com//title/tt0081398/\n",
      "https://www.imdb.com//title/tt0080678/\n",
      "https://www.imdb.com//title/tt0434409/\n",
      "https://www.imdb.com//title/tt0031381/\n",
      "https://www.imdb.com//title/tt0071315/\n",
      "https://www.imdb.com//title/tt2096673/\n",
      "https://www.imdb.com//title/tt0120735/\n",
      "https://www.imdb.com//title/tt0084787/\n",
      "https://www.imdb.com//title/tt0046912/\n",
      "https://www.imdb.com//title/tt0347149/\n",
      "https://www.imdb.com//title/tt1305806/\n",
      "https://www.imdb.com//title/tt0050212/\n",
      "https://www.imdb.com//title/tt0117951/\n",
      "https://www.imdb.com//title/tt5027774/\n",
      "https://www.imdb.com//title/tt1291584/\n",
      "https://www.imdb.com//title/tt1205489/\n",
      "https://www.imdb.com//title/tt0116282/\n",
      "https://www.imdb.com//title/tt0096283/\n",
      "https://www.imdb.com//title/tt1392214/\n",
      "https://www.imdb.com//title/tt0405159/\n",
      "https://www.imdb.com//title/tt0264464/\n",
      "https://www.imdb.com//title/tt0083658/\n",
      "https://www.imdb.com//title/tt0015864/\n",
      "https://www.imdb.com//title/tt0047296/\n",
      "https://www.imdb.com//title/tt0118849/\n",
      "https://www.imdb.com//title/tt1201607/\n",
      "https://www.imdb.com//title/tt0041959/\n",
      "https://www.imdb.com//title/tt2267998/\n",
      "https://www.imdb.com//title/tt0052618/\n",
      "https://www.imdb.com//title/tt2024544/\n",
      "https://www.imdb.com//title/tt0077416/\n",
      "https://www.imdb.com//title/tt0017925/\n",
      "https://www.imdb.com//title/tt0112471/\n",
      "https://www.imdb.com//title/tt0050986/\n",
      "https://www.imdb.com//title/tt0107207/\n",
      "https://www.imdb.com//title/tt2278388/\n",
      "https://www.imdb.com//title/tt0031679/\n",
      "https://www.imdb.com//title/tt3170832/\n",
      "https://www.imdb.com//title/tt2119532/\n",
      "https://www.imdb.com//title/tt0015324/\n",
      "https://www.imdb.com//title/tt0892769/\n",
      "https://www.imdb.com//title/tt0046268/\n",
      "https://www.imdb.com//title/tt0353969/\n",
      "https://www.imdb.com//title/tt0072684/\n",
      "https://www.imdb.com//title/tt4729430/\n",
      "https://www.imdb.com//title/tt0050976/\n",
      "https://www.imdb.com//title/tt0048473/\n",
      "https://www.imdb.com//title/tt1392190/\n",
      "https://www.imdb.com//title/tt0118715/\n",
      "https://www.imdb.com//title/tt3011894/\n",
      "https://www.imdb.com//title/tt0198781/\n",
      "https://www.imdb.com//title/tt0978762/\n",
      "https://www.imdb.com//title/tt0073195/\n",
      "https://www.imdb.com//title/tt0019254/\n",
      "https://www.imdb.com//title/tt0395169/\n",
      "https://www.imdb.com//title/tt0075148/\n",
      "https://www.imdb.com//title/tt0097165/\n",
      "https://www.imdb.com//title/tt0046438/\n",
      "https://www.imdb.com//title/tt0091763/\n",
      "https://www.imdb.com//title/tt1950186/\n",
      "https://www.imdb.com//title/tt0088247/\n",
      "https://www.imdb.com//title/tt0092005/\n",
      "https://www.imdb.com//title/tt1979320/\n",
      "https://www.imdb.com//title/tt0758758/\n",
      "https://www.imdb.com//title/tt3315342/\n",
      "https://www.imdb.com//title/tt0032138/\n",
      "https://www.imdb.com//title/tt1895587/\n",
      "https://www.imdb.com//title/tt0074958/\n",
      "https://www.imdb.com//title/tt0107048/\n",
      "https://www.imdb.com//title/tt0382932/\n",
      "https://www.imdb.com//title/tt0070047/\n",
      "https://www.imdb.com//title/tt1028532/\n",
      "https://www.imdb.com//title/tt0317705/\n",
      "https://www.imdb.com//title/tt0381681/\n",
      "https://www.imdb.com//title/tt0036868/\n",
      "https://www.imdb.com//title/tt0032976/\n",
      "https://www.imdb.com//title/tt0476735/\n",
      "https://www.imdb.com//title/tt0071411/\n",
      "https://www.imdb.com//title/tt0061512/\n",
      "https://www.imdb.com//title/tt0325980/\n",
      "https://www.imdb.com//title/tt0035446/\n",
      "https://www.imdb.com//title/tt0032551/\n",
      "https://www.imdb.com//title/tt0058946/\n",
      "https://www.imdb.com//title/tt0245712/\n",
      "https://www.imdb.com//title/tt0059742/\n",
      "https://www.imdb.com//title/tt0079470/\n",
      "https://www.imdb.com//title/tt0053198/\n",
      "https://www.imdb.com//title/tt0060827/\n",
      "https://www.imdb.com//title/tt0025316/\n",
      "https://www.imdb.com//title/tt0113247/\n",
      "https://www.imdb.com//title/tt0103639/\n",
      "https://www.imdb.com//title/tt0101414/\n",
      "https://www.imdb.com//title/tt0083987/\n",
      "https://www.imdb.com//title/tt1454029/\n",
      "https://www.imdb.com//title/tt1160419/\n",
      "https://www.imdb.com//title/tt4016934/\n",
      "https://www.imdb.com//title/tt15097216/\n"
     ]
    }
   ],
   "source": [
    "for tr in table_rows:\n",
    "    table_data = tr.find('td',{'class':'titleColumn'})\n",
    "    movieID = table_data.a['href']\n",
    "    movieurl = f'https://www.imdb.com/{movieID}'\n",
    "    print(movieurl)"
   ]
  },
  {
   "cell_type": "markdown",
   "id": "7b4fa952",
   "metadata": {},
   "source": [
    "## Now we fetch the movie Time,Genre and Releasing Date"
   ]
  },
  {
   "cell_type": "code",
   "execution_count": 70,
   "id": "36937743",
   "metadata": {},
   "outputs": [],
   "source": [
    "import requests\n",
    "from bs4 import BeautifulSoup"
   ]
  },
  {
   "cell_type": "code",
   "execution_count": 71,
   "id": "7a823986",
   "metadata": {},
   "outputs": [],
   "source": [
    "res = requests.get('https://www.imdb.com//title/tt0120815/')"
   ]
  },
  {
   "cell_type": "code",
   "execution_count": 72,
   "id": "74b0fb59",
   "metadata": {},
   "outputs": [],
   "source": [
    "html = res.text"
   ]
  },
  {
   "cell_type": "code",
   "execution_count": 73,
   "id": "98f4f927",
   "metadata": {},
   "outputs": [],
   "source": [
    "soup = BeautifulSoup(html,'html.parser')"
   ]
  },
  {
   "cell_type": "code",
   "execution_count": 74,
   "id": "adda1f3f",
   "metadata": {},
   "outputs": [],
   "source": [
    "info = soup.find('div',{'class':'sc-94726ce4-3 eSKKHi'})"
   ]
  },
  {
   "cell_type": "code",
   "execution_count": 75,
   "id": "766c1a8c",
   "metadata": {},
   "outputs": [
    {
     "data": {
      "text/plain": [
       "'19981998AA2h 49m'"
      ]
     },
     "execution_count": 75,
     "metadata": {},
     "output_type": "execute_result"
    }
   ],
   "source": [
    "info.text"
   ]
  },
  {
   "cell_type": "code",
   "execution_count": 76,
   "id": "094ac900",
   "metadata": {},
   "outputs": [
    {
     "data": {
      "text/plain": [
       "'1998'"
      ]
     },
     "execution_count": 76,
     "metadata": {},
     "output_type": "execute_result"
    }
   ],
   "source": [
    "release_year = info.text[0:-12]\n",
    "release_year"
   ]
  },
  {
   "cell_type": "code",
   "execution_count": 77,
   "id": "24438a30",
   "metadata": {},
   "outputs": [
    {
     "data": {
      "text/plain": [
       "'AA'"
      ]
     },
     "execution_count": 77,
     "metadata": {},
     "output_type": "execute_result"
    }
   ],
   "source": [
    "genre = info.text[8:-6]\n",
    "genre"
   ]
  },
  {
   "cell_type": "code",
   "execution_count": 78,
   "id": "80f6730f",
   "metadata": {},
   "outputs": [
    {
     "data": {
      "text/plain": [
       "'2h 49m'"
      ]
     },
     "execution_count": 78,
     "metadata": {},
     "output_type": "execute_result"
    }
   ],
   "source": [
    "time = info.text[10:]\n",
    "time"
   ]
  },
  {
   "cell_type": "code",
   "execution_count": 79,
   "id": "0a169979",
   "metadata": {},
   "outputs": [],
   "source": [
    "a = info.findAll('li',{'class':'ipc-inline-list__item'})"
   ]
  },
  {
   "cell_type": "code",
   "execution_count": 279,
   "id": "5f261ec6",
   "metadata": {},
   "outputs": [
    {
     "name": "stdout",
     "output_type": "stream",
     "text": [
      "19981998\n",
      "AA\n",
      "2h 49m\n"
     ]
    }
   ],
   "source": [
    "print(a[0].text)\n",
    "print(a[1].text)\n",
    "print(a[2].text)"
   ]
  },
  {
   "cell_type": "markdown",
   "id": "592602a2",
   "metadata": {},
   "source": [
    "# Save all movie names with the other details"
   ]
  },
  {
   "cell_type": "code",
   "execution_count": 81,
   "id": "938a949d",
   "metadata": {
    "collapsed": true
   },
   "outputs": [
    {
     "ename": "KeyboardInterrupt",
     "evalue": "",
     "output_type": "error",
     "traceback": [
      "\u001b[1;31m---------------------------------------------------------------------------\u001b[0m",
      "\u001b[1;31mKeyboardInterrupt\u001b[0m                         Traceback (most recent call last)",
      "\u001b[1;32m<timed exec>\u001b[0m in \u001b[0;36m<module>\u001b[1;34m\u001b[0m\n",
      "\u001b[1;32m~\\anaconda3\\lib\\site-packages\\requests\\api.py\u001b[0m in \u001b[0;36mget\u001b[1;34m(url, params, **kwargs)\u001b[0m\n\u001b[0;32m     74\u001b[0m \u001b[1;33m\u001b[0m\u001b[0m\n\u001b[0;32m     75\u001b[0m     \u001b[0mkwargs\u001b[0m\u001b[1;33m.\u001b[0m\u001b[0msetdefault\u001b[0m\u001b[1;33m(\u001b[0m\u001b[1;34m'allow_redirects'\u001b[0m\u001b[1;33m,\u001b[0m \u001b[1;32mTrue\u001b[0m\u001b[1;33m)\u001b[0m\u001b[1;33m\u001b[0m\u001b[1;33m\u001b[0m\u001b[0m\n\u001b[1;32m---> 76\u001b[1;33m     \u001b[1;32mreturn\u001b[0m \u001b[0mrequest\u001b[0m\u001b[1;33m(\u001b[0m\u001b[1;34m'get'\u001b[0m\u001b[1;33m,\u001b[0m \u001b[0murl\u001b[0m\u001b[1;33m,\u001b[0m \u001b[0mparams\u001b[0m\u001b[1;33m=\u001b[0m\u001b[0mparams\u001b[0m\u001b[1;33m,\u001b[0m \u001b[1;33m**\u001b[0m\u001b[0mkwargs\u001b[0m\u001b[1;33m)\u001b[0m\u001b[1;33m\u001b[0m\u001b[1;33m\u001b[0m\u001b[0m\n\u001b[0m\u001b[0;32m     77\u001b[0m \u001b[1;33m\u001b[0m\u001b[0m\n\u001b[0;32m     78\u001b[0m \u001b[1;33m\u001b[0m\u001b[0m\n",
      "\u001b[1;32m~\\anaconda3\\lib\\site-packages\\requests\\api.py\u001b[0m in \u001b[0;36mrequest\u001b[1;34m(method, url, **kwargs)\u001b[0m\n\u001b[0;32m     59\u001b[0m     \u001b[1;31m# cases, and look like a memory leak in others.\u001b[0m\u001b[1;33m\u001b[0m\u001b[1;33m\u001b[0m\u001b[1;33m\u001b[0m\u001b[0m\n\u001b[0;32m     60\u001b[0m     \u001b[1;32mwith\u001b[0m \u001b[0msessions\u001b[0m\u001b[1;33m.\u001b[0m\u001b[0mSession\u001b[0m\u001b[1;33m(\u001b[0m\u001b[1;33m)\u001b[0m \u001b[1;32mas\u001b[0m \u001b[0msession\u001b[0m\u001b[1;33m:\u001b[0m\u001b[1;33m\u001b[0m\u001b[1;33m\u001b[0m\u001b[0m\n\u001b[1;32m---> 61\u001b[1;33m         \u001b[1;32mreturn\u001b[0m \u001b[0msession\u001b[0m\u001b[1;33m.\u001b[0m\u001b[0mrequest\u001b[0m\u001b[1;33m(\u001b[0m\u001b[0mmethod\u001b[0m\u001b[1;33m=\u001b[0m\u001b[0mmethod\u001b[0m\u001b[1;33m,\u001b[0m \u001b[0murl\u001b[0m\u001b[1;33m=\u001b[0m\u001b[0murl\u001b[0m\u001b[1;33m,\u001b[0m \u001b[1;33m**\u001b[0m\u001b[0mkwargs\u001b[0m\u001b[1;33m)\u001b[0m\u001b[1;33m\u001b[0m\u001b[1;33m\u001b[0m\u001b[0m\n\u001b[0m\u001b[0;32m     62\u001b[0m \u001b[1;33m\u001b[0m\u001b[0m\n\u001b[0;32m     63\u001b[0m \u001b[1;33m\u001b[0m\u001b[0m\n",
      "\u001b[1;32m~\\anaconda3\\lib\\site-packages\\requests\\sessions.py\u001b[0m in \u001b[0;36mrequest\u001b[1;34m(self, method, url, params, data, headers, cookies, files, auth, timeout, allow_redirects, proxies, hooks, stream, verify, cert, json)\u001b[0m\n\u001b[0;32m    540\u001b[0m         }\n\u001b[0;32m    541\u001b[0m         \u001b[0msend_kwargs\u001b[0m\u001b[1;33m.\u001b[0m\u001b[0mupdate\u001b[0m\u001b[1;33m(\u001b[0m\u001b[0msettings\u001b[0m\u001b[1;33m)\u001b[0m\u001b[1;33m\u001b[0m\u001b[1;33m\u001b[0m\u001b[0m\n\u001b[1;32m--> 542\u001b[1;33m         \u001b[0mresp\u001b[0m \u001b[1;33m=\u001b[0m \u001b[0mself\u001b[0m\u001b[1;33m.\u001b[0m\u001b[0msend\u001b[0m\u001b[1;33m(\u001b[0m\u001b[0mprep\u001b[0m\u001b[1;33m,\u001b[0m \u001b[1;33m**\u001b[0m\u001b[0msend_kwargs\u001b[0m\u001b[1;33m)\u001b[0m\u001b[1;33m\u001b[0m\u001b[1;33m\u001b[0m\u001b[0m\n\u001b[0m\u001b[0;32m    543\u001b[0m \u001b[1;33m\u001b[0m\u001b[0m\n\u001b[0;32m    544\u001b[0m         \u001b[1;32mreturn\u001b[0m \u001b[0mresp\u001b[0m\u001b[1;33m\u001b[0m\u001b[1;33m\u001b[0m\u001b[0m\n",
      "\u001b[1;32m~\\anaconda3\\lib\\site-packages\\requests\\sessions.py\u001b[0m in \u001b[0;36msend\u001b[1;34m(self, request, **kwargs)\u001b[0m\n\u001b[0;32m    653\u001b[0m \u001b[1;33m\u001b[0m\u001b[0m\n\u001b[0;32m    654\u001b[0m         \u001b[1;31m# Send the request\u001b[0m\u001b[1;33m\u001b[0m\u001b[1;33m\u001b[0m\u001b[1;33m\u001b[0m\u001b[0m\n\u001b[1;32m--> 655\u001b[1;33m         \u001b[0mr\u001b[0m \u001b[1;33m=\u001b[0m \u001b[0madapter\u001b[0m\u001b[1;33m.\u001b[0m\u001b[0msend\u001b[0m\u001b[1;33m(\u001b[0m\u001b[0mrequest\u001b[0m\u001b[1;33m,\u001b[0m \u001b[1;33m**\u001b[0m\u001b[0mkwargs\u001b[0m\u001b[1;33m)\u001b[0m\u001b[1;33m\u001b[0m\u001b[1;33m\u001b[0m\u001b[0m\n\u001b[0m\u001b[0;32m    656\u001b[0m \u001b[1;33m\u001b[0m\u001b[0m\n\u001b[0;32m    657\u001b[0m         \u001b[1;31m# Total elapsed time of the request (approximately)\u001b[0m\u001b[1;33m\u001b[0m\u001b[1;33m\u001b[0m\u001b[1;33m\u001b[0m\u001b[0m\n",
      "\u001b[1;32m~\\anaconda3\\lib\\site-packages\\requests\\adapters.py\u001b[0m in \u001b[0;36msend\u001b[1;34m(self, request, stream, timeout, verify, cert, proxies)\u001b[0m\n\u001b[0;32m    437\u001b[0m         \u001b[1;32mtry\u001b[0m\u001b[1;33m:\u001b[0m\u001b[1;33m\u001b[0m\u001b[1;33m\u001b[0m\u001b[0m\n\u001b[0;32m    438\u001b[0m             \u001b[1;32mif\u001b[0m \u001b[1;32mnot\u001b[0m \u001b[0mchunked\u001b[0m\u001b[1;33m:\u001b[0m\u001b[1;33m\u001b[0m\u001b[1;33m\u001b[0m\u001b[0m\n\u001b[1;32m--> 439\u001b[1;33m                 resp = conn.urlopen(\n\u001b[0m\u001b[0;32m    440\u001b[0m                     \u001b[0mmethod\u001b[0m\u001b[1;33m=\u001b[0m\u001b[0mrequest\u001b[0m\u001b[1;33m.\u001b[0m\u001b[0mmethod\u001b[0m\u001b[1;33m,\u001b[0m\u001b[1;33m\u001b[0m\u001b[1;33m\u001b[0m\u001b[0m\n\u001b[0;32m    441\u001b[0m                     \u001b[0murl\u001b[0m\u001b[1;33m=\u001b[0m\u001b[0murl\u001b[0m\u001b[1;33m,\u001b[0m\u001b[1;33m\u001b[0m\u001b[1;33m\u001b[0m\u001b[0m\n",
      "\u001b[1;32m~\\anaconda3\\lib\\site-packages\\urllib3\\connectionpool.py\u001b[0m in \u001b[0;36murlopen\u001b[1;34m(self, method, url, body, headers, retries, redirect, assert_same_host, timeout, pool_timeout, release_conn, chunked, body_pos, **response_kw)\u001b[0m\n\u001b[0;32m    697\u001b[0m \u001b[1;33m\u001b[0m\u001b[0m\n\u001b[0;32m    698\u001b[0m             \u001b[1;31m# Make the request on the httplib connection object.\u001b[0m\u001b[1;33m\u001b[0m\u001b[1;33m\u001b[0m\u001b[1;33m\u001b[0m\u001b[0m\n\u001b[1;32m--> 699\u001b[1;33m             httplib_response = self._make_request(\n\u001b[0m\u001b[0;32m    700\u001b[0m                 \u001b[0mconn\u001b[0m\u001b[1;33m,\u001b[0m\u001b[1;33m\u001b[0m\u001b[1;33m\u001b[0m\u001b[0m\n\u001b[0;32m    701\u001b[0m                 \u001b[0mmethod\u001b[0m\u001b[1;33m,\u001b[0m\u001b[1;33m\u001b[0m\u001b[1;33m\u001b[0m\u001b[0m\n",
      "\u001b[1;32m~\\anaconda3\\lib\\site-packages\\urllib3\\connectionpool.py\u001b[0m in \u001b[0;36m_make_request\u001b[1;34m(self, conn, method, url, timeout, chunked, **httplib_request_kw)\u001b[0m\n\u001b[0;32m    443\u001b[0m                     \u001b[1;31m# Python 3 (including for exceptions like SystemExit).\u001b[0m\u001b[1;33m\u001b[0m\u001b[1;33m\u001b[0m\u001b[1;33m\u001b[0m\u001b[0m\n\u001b[0;32m    444\u001b[0m                     \u001b[1;31m# Otherwise it looks like a bug in the code.\u001b[0m\u001b[1;33m\u001b[0m\u001b[1;33m\u001b[0m\u001b[1;33m\u001b[0m\u001b[0m\n\u001b[1;32m--> 445\u001b[1;33m                     \u001b[0msix\u001b[0m\u001b[1;33m.\u001b[0m\u001b[0mraise_from\u001b[0m\u001b[1;33m(\u001b[0m\u001b[0me\u001b[0m\u001b[1;33m,\u001b[0m \u001b[1;32mNone\u001b[0m\u001b[1;33m)\u001b[0m\u001b[1;33m\u001b[0m\u001b[1;33m\u001b[0m\u001b[0m\n\u001b[0m\u001b[0;32m    446\u001b[0m         \u001b[1;32mexcept\u001b[0m \u001b[1;33m(\u001b[0m\u001b[0mSocketTimeout\u001b[0m\u001b[1;33m,\u001b[0m \u001b[0mBaseSSLError\u001b[0m\u001b[1;33m,\u001b[0m \u001b[0mSocketError\u001b[0m\u001b[1;33m)\u001b[0m \u001b[1;32mas\u001b[0m \u001b[0me\u001b[0m\u001b[1;33m:\u001b[0m\u001b[1;33m\u001b[0m\u001b[1;33m\u001b[0m\u001b[0m\n\u001b[0;32m    447\u001b[0m             \u001b[0mself\u001b[0m\u001b[1;33m.\u001b[0m\u001b[0m_raise_timeout\u001b[0m\u001b[1;33m(\u001b[0m\u001b[0merr\u001b[0m\u001b[1;33m=\u001b[0m\u001b[0me\u001b[0m\u001b[1;33m,\u001b[0m \u001b[0murl\u001b[0m\u001b[1;33m=\u001b[0m\u001b[0murl\u001b[0m\u001b[1;33m,\u001b[0m \u001b[0mtimeout_value\u001b[0m\u001b[1;33m=\u001b[0m\u001b[0mread_timeout\u001b[0m\u001b[1;33m)\u001b[0m\u001b[1;33m\u001b[0m\u001b[1;33m\u001b[0m\u001b[0m\n",
      "\u001b[1;32m~\\anaconda3\\lib\\site-packages\\urllib3\\packages\\six.py\u001b[0m in \u001b[0;36mraise_from\u001b[1;34m(value, from_value)\u001b[0m\n",
      "\u001b[1;32m~\\anaconda3\\lib\\site-packages\\urllib3\\connectionpool.py\u001b[0m in \u001b[0;36m_make_request\u001b[1;34m(self, conn, method, url, timeout, chunked, **httplib_request_kw)\u001b[0m\n\u001b[0;32m    438\u001b[0m                 \u001b[1;31m# Python 3\u001b[0m\u001b[1;33m\u001b[0m\u001b[1;33m\u001b[0m\u001b[1;33m\u001b[0m\u001b[0m\n\u001b[0;32m    439\u001b[0m                 \u001b[1;32mtry\u001b[0m\u001b[1;33m:\u001b[0m\u001b[1;33m\u001b[0m\u001b[1;33m\u001b[0m\u001b[0m\n\u001b[1;32m--> 440\u001b[1;33m                     \u001b[0mhttplib_response\u001b[0m \u001b[1;33m=\u001b[0m \u001b[0mconn\u001b[0m\u001b[1;33m.\u001b[0m\u001b[0mgetresponse\u001b[0m\u001b[1;33m(\u001b[0m\u001b[1;33m)\u001b[0m\u001b[1;33m\u001b[0m\u001b[1;33m\u001b[0m\u001b[0m\n\u001b[0m\u001b[0;32m    441\u001b[0m                 \u001b[1;32mexcept\u001b[0m \u001b[0mBaseException\u001b[0m \u001b[1;32mas\u001b[0m \u001b[0me\u001b[0m\u001b[1;33m:\u001b[0m\u001b[1;33m\u001b[0m\u001b[1;33m\u001b[0m\u001b[0m\n\u001b[0;32m    442\u001b[0m                     \u001b[1;31m# Remove the TypeError from the exception chain in\u001b[0m\u001b[1;33m\u001b[0m\u001b[1;33m\u001b[0m\u001b[1;33m\u001b[0m\u001b[0m\n",
      "\u001b[1;32m~\\anaconda3\\lib\\http\\client.py\u001b[0m in \u001b[0;36mgetresponse\u001b[1;34m(self)\u001b[0m\n\u001b[0;32m   1345\u001b[0m         \u001b[1;32mtry\u001b[0m\u001b[1;33m:\u001b[0m\u001b[1;33m\u001b[0m\u001b[1;33m\u001b[0m\u001b[0m\n\u001b[0;32m   1346\u001b[0m             \u001b[1;32mtry\u001b[0m\u001b[1;33m:\u001b[0m\u001b[1;33m\u001b[0m\u001b[1;33m\u001b[0m\u001b[0m\n\u001b[1;32m-> 1347\u001b[1;33m                 \u001b[0mresponse\u001b[0m\u001b[1;33m.\u001b[0m\u001b[0mbegin\u001b[0m\u001b[1;33m(\u001b[0m\u001b[1;33m)\u001b[0m\u001b[1;33m\u001b[0m\u001b[1;33m\u001b[0m\u001b[0m\n\u001b[0m\u001b[0;32m   1348\u001b[0m             \u001b[1;32mexcept\u001b[0m \u001b[0mConnectionError\u001b[0m\u001b[1;33m:\u001b[0m\u001b[1;33m\u001b[0m\u001b[1;33m\u001b[0m\u001b[0m\n\u001b[0;32m   1349\u001b[0m                 \u001b[0mself\u001b[0m\u001b[1;33m.\u001b[0m\u001b[0mclose\u001b[0m\u001b[1;33m(\u001b[0m\u001b[1;33m)\u001b[0m\u001b[1;33m\u001b[0m\u001b[1;33m\u001b[0m\u001b[0m\n",
      "\u001b[1;32m~\\anaconda3\\lib\\http\\client.py\u001b[0m in \u001b[0;36mbegin\u001b[1;34m(self)\u001b[0m\n\u001b[0;32m    305\u001b[0m         \u001b[1;31m# read until we get a non-100 response\u001b[0m\u001b[1;33m\u001b[0m\u001b[1;33m\u001b[0m\u001b[1;33m\u001b[0m\u001b[0m\n\u001b[0;32m    306\u001b[0m         \u001b[1;32mwhile\u001b[0m \u001b[1;32mTrue\u001b[0m\u001b[1;33m:\u001b[0m\u001b[1;33m\u001b[0m\u001b[1;33m\u001b[0m\u001b[0m\n\u001b[1;32m--> 307\u001b[1;33m             \u001b[0mversion\u001b[0m\u001b[1;33m,\u001b[0m \u001b[0mstatus\u001b[0m\u001b[1;33m,\u001b[0m \u001b[0mreason\u001b[0m \u001b[1;33m=\u001b[0m \u001b[0mself\u001b[0m\u001b[1;33m.\u001b[0m\u001b[0m_read_status\u001b[0m\u001b[1;33m(\u001b[0m\u001b[1;33m)\u001b[0m\u001b[1;33m\u001b[0m\u001b[1;33m\u001b[0m\u001b[0m\n\u001b[0m\u001b[0;32m    308\u001b[0m             \u001b[1;32mif\u001b[0m \u001b[0mstatus\u001b[0m \u001b[1;33m!=\u001b[0m \u001b[0mCONTINUE\u001b[0m\u001b[1;33m:\u001b[0m\u001b[1;33m\u001b[0m\u001b[1;33m\u001b[0m\u001b[0m\n\u001b[0;32m    309\u001b[0m                 \u001b[1;32mbreak\u001b[0m\u001b[1;33m\u001b[0m\u001b[1;33m\u001b[0m\u001b[0m\n",
      "\u001b[1;32m~\\anaconda3\\lib\\http\\client.py\u001b[0m in \u001b[0;36m_read_status\u001b[1;34m(self)\u001b[0m\n\u001b[0;32m    266\u001b[0m \u001b[1;33m\u001b[0m\u001b[0m\n\u001b[0;32m    267\u001b[0m     \u001b[1;32mdef\u001b[0m \u001b[0m_read_status\u001b[0m\u001b[1;33m(\u001b[0m\u001b[0mself\u001b[0m\u001b[1;33m)\u001b[0m\u001b[1;33m:\u001b[0m\u001b[1;33m\u001b[0m\u001b[1;33m\u001b[0m\u001b[0m\n\u001b[1;32m--> 268\u001b[1;33m         \u001b[0mline\u001b[0m \u001b[1;33m=\u001b[0m \u001b[0mstr\u001b[0m\u001b[1;33m(\u001b[0m\u001b[0mself\u001b[0m\u001b[1;33m.\u001b[0m\u001b[0mfp\u001b[0m\u001b[1;33m.\u001b[0m\u001b[0mreadline\u001b[0m\u001b[1;33m(\u001b[0m\u001b[0m_MAXLINE\u001b[0m \u001b[1;33m+\u001b[0m \u001b[1;36m1\u001b[0m\u001b[1;33m)\u001b[0m\u001b[1;33m,\u001b[0m \u001b[1;34m\"iso-8859-1\"\u001b[0m\u001b[1;33m)\u001b[0m\u001b[1;33m\u001b[0m\u001b[1;33m\u001b[0m\u001b[0m\n\u001b[0m\u001b[0;32m    269\u001b[0m         \u001b[1;32mif\u001b[0m \u001b[0mlen\u001b[0m\u001b[1;33m(\u001b[0m\u001b[0mline\u001b[0m\u001b[1;33m)\u001b[0m \u001b[1;33m>\u001b[0m \u001b[0m_MAXLINE\u001b[0m\u001b[1;33m:\u001b[0m\u001b[1;33m\u001b[0m\u001b[1;33m\u001b[0m\u001b[0m\n\u001b[0;32m    270\u001b[0m             \u001b[1;32mraise\u001b[0m \u001b[0mLineTooLong\u001b[0m\u001b[1;33m(\u001b[0m\u001b[1;34m\"status line\"\u001b[0m\u001b[1;33m)\u001b[0m\u001b[1;33m\u001b[0m\u001b[1;33m\u001b[0m\u001b[0m\n",
      "\u001b[1;32m~\\anaconda3\\lib\\socket.py\u001b[0m in \u001b[0;36mreadinto\u001b[1;34m(self, b)\u001b[0m\n\u001b[0;32m    667\u001b[0m         \u001b[1;32mwhile\u001b[0m \u001b[1;32mTrue\u001b[0m\u001b[1;33m:\u001b[0m\u001b[1;33m\u001b[0m\u001b[1;33m\u001b[0m\u001b[0m\n\u001b[0;32m    668\u001b[0m             \u001b[1;32mtry\u001b[0m\u001b[1;33m:\u001b[0m\u001b[1;33m\u001b[0m\u001b[1;33m\u001b[0m\u001b[0m\n\u001b[1;32m--> 669\u001b[1;33m                 \u001b[1;32mreturn\u001b[0m \u001b[0mself\u001b[0m\u001b[1;33m.\u001b[0m\u001b[0m_sock\u001b[0m\u001b[1;33m.\u001b[0m\u001b[0mrecv_into\u001b[0m\u001b[1;33m(\u001b[0m\u001b[0mb\u001b[0m\u001b[1;33m)\u001b[0m\u001b[1;33m\u001b[0m\u001b[1;33m\u001b[0m\u001b[0m\n\u001b[0m\u001b[0;32m    670\u001b[0m             \u001b[1;32mexcept\u001b[0m \u001b[0mtimeout\u001b[0m\u001b[1;33m:\u001b[0m\u001b[1;33m\u001b[0m\u001b[1;33m\u001b[0m\u001b[0m\n\u001b[0;32m    671\u001b[0m                 \u001b[0mself\u001b[0m\u001b[1;33m.\u001b[0m\u001b[0m_timeout_occurred\u001b[0m \u001b[1;33m=\u001b[0m \u001b[1;32mTrue\u001b[0m\u001b[1;33m\u001b[0m\u001b[1;33m\u001b[0m\u001b[0m\n",
      "\u001b[1;32m~\\anaconda3\\lib\\ssl.py\u001b[0m in \u001b[0;36mrecv_into\u001b[1;34m(self, buffer, nbytes, flags)\u001b[0m\n\u001b[0;32m   1239\u001b[0m                   \u001b[1;34m\"non-zero flags not allowed in calls to recv_into() on %s\"\u001b[0m \u001b[1;33m%\u001b[0m\u001b[1;33m\u001b[0m\u001b[1;33m\u001b[0m\u001b[0m\n\u001b[0;32m   1240\u001b[0m                   self.__class__)\n\u001b[1;32m-> 1241\u001b[1;33m             \u001b[1;32mreturn\u001b[0m \u001b[0mself\u001b[0m\u001b[1;33m.\u001b[0m\u001b[0mread\u001b[0m\u001b[1;33m(\u001b[0m\u001b[0mnbytes\u001b[0m\u001b[1;33m,\u001b[0m \u001b[0mbuffer\u001b[0m\u001b[1;33m)\u001b[0m\u001b[1;33m\u001b[0m\u001b[1;33m\u001b[0m\u001b[0m\n\u001b[0m\u001b[0;32m   1242\u001b[0m         \u001b[1;32melse\u001b[0m\u001b[1;33m:\u001b[0m\u001b[1;33m\u001b[0m\u001b[1;33m\u001b[0m\u001b[0m\n\u001b[0;32m   1243\u001b[0m             \u001b[1;32mreturn\u001b[0m \u001b[0msuper\u001b[0m\u001b[1;33m(\u001b[0m\u001b[1;33m)\u001b[0m\u001b[1;33m.\u001b[0m\u001b[0mrecv_into\u001b[0m\u001b[1;33m(\u001b[0m\u001b[0mbuffer\u001b[0m\u001b[1;33m,\u001b[0m \u001b[0mnbytes\u001b[0m\u001b[1;33m,\u001b[0m \u001b[0mflags\u001b[0m\u001b[1;33m)\u001b[0m\u001b[1;33m\u001b[0m\u001b[1;33m\u001b[0m\u001b[0m\n",
      "\u001b[1;32m~\\anaconda3\\lib\\ssl.py\u001b[0m in \u001b[0;36mread\u001b[1;34m(self, len, buffer)\u001b[0m\n\u001b[0;32m   1097\u001b[0m         \u001b[1;32mtry\u001b[0m\u001b[1;33m:\u001b[0m\u001b[1;33m\u001b[0m\u001b[1;33m\u001b[0m\u001b[0m\n\u001b[0;32m   1098\u001b[0m             \u001b[1;32mif\u001b[0m \u001b[0mbuffer\u001b[0m \u001b[1;32mis\u001b[0m \u001b[1;32mnot\u001b[0m \u001b[1;32mNone\u001b[0m\u001b[1;33m:\u001b[0m\u001b[1;33m\u001b[0m\u001b[1;33m\u001b[0m\u001b[0m\n\u001b[1;32m-> 1099\u001b[1;33m                 \u001b[1;32mreturn\u001b[0m \u001b[0mself\u001b[0m\u001b[1;33m.\u001b[0m\u001b[0m_sslobj\u001b[0m\u001b[1;33m.\u001b[0m\u001b[0mread\u001b[0m\u001b[1;33m(\u001b[0m\u001b[0mlen\u001b[0m\u001b[1;33m,\u001b[0m \u001b[0mbuffer\u001b[0m\u001b[1;33m)\u001b[0m\u001b[1;33m\u001b[0m\u001b[1;33m\u001b[0m\u001b[0m\n\u001b[0m\u001b[0;32m   1100\u001b[0m             \u001b[1;32melse\u001b[0m\u001b[1;33m:\u001b[0m\u001b[1;33m\u001b[0m\u001b[1;33m\u001b[0m\u001b[0m\n\u001b[0;32m   1101\u001b[0m                 \u001b[1;32mreturn\u001b[0m \u001b[0mself\u001b[0m\u001b[1;33m.\u001b[0m\u001b[0m_sslobj\u001b[0m\u001b[1;33m.\u001b[0m\u001b[0mread\u001b[0m\u001b[1;33m(\u001b[0m\u001b[0mlen\u001b[0m\u001b[1;33m)\u001b[0m\u001b[1;33m\u001b[0m\u001b[1;33m\u001b[0m\u001b[0m\n",
      "\u001b[1;31mKeyboardInterrupt\u001b[0m: "
     ]
    }
   ],
   "source": [
    "%%time\n",
    "with open('All Movies.csv', 'w') as f:\n",
    "    for tr in table_rows:\n",
    "        table_data = tr.find('td',{'class':'titleColumn'})\n",
    "        rating_data = tr.find('td',{'class':'ratingColumn imdbRating'})\n",
    "        movieID = table_data.a['href']\n",
    "        movieurl = f'https://www.imdb.com/{movieID}'\n",
    "        res = requests.get(movieurl)\n",
    "        html = res.text\n",
    "        soup = BeautifulSoup(html,'html.parser')\n",
    "        info = soup.find('div',{'class':'sc-94726ce4-3 eSKKHi'})\n",
    "        f.write(table_data.a.string+\" , \"+table_data.span.string+\" , \"+\" Rating : \"+rating_data.strong.string+\" , \"+info.text)\n",
    "        f.write('\\n')"
   ]
  },
  {
   "cell_type": "markdown",
   "id": "834580ba",
   "metadata": {},
   "source": [
    "# Movie Recommendation System"
   ]
  },
  {
   "cell_type": "markdown",
   "id": "ffaeac14",
   "metadata": {},
   "source": [
    "### Fetch movie forom movie name\n"
   ]
  },
  {
   "cell_type": "code",
   "execution_count": 4,
   "id": "64a37667",
   "metadata": {},
   "outputs": [],
   "source": [
    "res = requests.get('https://www.imdb.com/chart/top/')\n",
    "html = res.text\n",
    "soup = BeautifulSoup(html,'html.parser')\n",
    "tbody = soup.find('tbody',{'class':'lister-list'})\n"
   ]
  },
  {
   "cell_type": "code",
   "execution_count": 5,
   "id": "83f2ab50",
   "metadata": {},
   "outputs": [],
   "source": [
    "trs = tbody.findAll('tr')"
   ]
  },
  {
   "cell_type": "code",
   "execution_count": 6,
   "id": "a3646808",
   "metadata": {},
   "outputs": [
    {
     "name": "stdout",
     "output_type": "stream",
     "text": [
      "Enter Movie Name : Forrest Gump\n",
      "https://www.imdb.com//title/tt0109830/\n"
     ]
    }
   ],
   "source": [
    "movieName = input(\"Enter Movie Name : \")\n",
    "movieName = movieName.lower()\n",
    "for tr in trs:\n",
    "    td = tr.find('td',{'class':'titleColumn'})\n",
    "    all_movies = td.a.string.lower()\n",
    "    if movieName == all_movies:\n",
    "        url = td.a['href']\n",
    "        movieurl = f'https://www.imdb.com/{url}'\n",
    "        print(movieurl)\n",
    "        break"
   ]
  },
  {
   "cell_type": "code",
   "execution_count": 69,
   "id": "04556bc3",
   "metadata": {},
   "outputs": [],
   "source": [
    "r1 = requests.get('https://www.imdb.com//title/tt0111161/')"
   ]
  },
  {
   "cell_type": "code",
   "execution_count": 70,
   "id": "6701c8f9",
   "metadata": {},
   "outputs": [],
   "source": [
    "html1 = r1.text"
   ]
  },
  {
   "cell_type": "code",
   "execution_count": 71,
   "id": "2757c44f",
   "metadata": {},
   "outputs": [
    {
     "name": "stdout",
     "output_type": "stream",
     "text": [
      "Frank Darabont\n",
      "https://www.imdb.com//name/nm0001104/?ref_=tt_ov_dr\n"
     ]
    }
   ],
   "source": [
    "soup1 = BeautifulSoup(html1, 'html.parser')\n",
    "div1 = soup1.find('div',{'class':'ipc-metadata-list-item__content-container'})\n",
    "print(div1.a.string)\n",
    "dirID =  div1.a['href']\n",
    "dirURL = f'https://www.imdb.com/{dirID}'\n",
    "print(dirURL)"
   ]
  },
  {
   "cell_type": "code",
   "execution_count": 72,
   "id": "d1e2ac48",
   "metadata": {},
   "outputs": [],
   "source": [
    "r2 = requests.get(dirURL)"
   ]
  },
  {
   "cell_type": "code",
   "execution_count": 73,
   "id": "c11f0005",
   "metadata": {},
   "outputs": [],
   "source": [
    "html2 = r2.text"
   ]
  },
  {
   "cell_type": "code",
   "execution_count": 74,
   "id": "e5e5ccdf",
   "metadata": {},
   "outputs": [],
   "source": [
    "soup2 = BeautifulSoup(html2, 'html.parser')"
   ]
  },
  {
   "cell_type": "code",
   "execution_count": 76,
   "id": "f2182434",
   "metadata": {},
   "outputs": [],
   "source": [
    "div2 = soup2.find('div',{'id':'knownfor'})"
   ]
  },
  {
   "cell_type": "code",
   "execution_count": 78,
   "id": "0021bd8b",
   "metadata": {
    "scrolled": true
   },
   "outputs": [
    {
     "data": {
      "text/plain": [
       "<div id=\"knownfor\">\n",
       "<div class=\"knownfor-title\">\n",
       "<div class=\"uc-add-wl-widget-container\">\n",
       "<div class=\"uc-add-wl-ribbon uc-add-wl--not-in-wl uc-add-wl\" data-is-logged-in=\"false\" data-is-watchlisted=\"false\" data-record-metric=\"true\" data-ref-tag-prefix=\"nm_knf_i1\" data-title-id=\"tt0120689\" data-uc-add-wl=\"\" data-widget-type=\"wl_ribbon\" title=\"Click to add to watchlist\">\n",
       "<div class=\"uc-add-wl-pending-container\"><div class=\"uc-add-wl-pending-icon\"></div></div>\n",
       "</div>\n",
       "<a href=\"/title/tt0120689/\"> <img alt=\"The Green Mile\" class=\"wtw-option\" data-baseref=\"nm_knf_i\" data-tconst=\"tt0120689\" data-watchtype=\"icon\" height=\"216\" src=\"https://m.media-amazon.com/images/M/MV5BMTUxMzQyNjA5MF5BMl5BanBnXkFtZTYwOTU2NTY3._V1_UX148_CR0,0,148,216_AL__QL50.jpg\" title=\"The Green Mile\" width=\"148\"/>\n",
       "</a> </div>\n",
       "<div class=\"knownfor-title-role\">\n",
       "<a class=\"knownfor-ellipsis\" href=\"/title/tt0120689/\" title=\"The Green Mile\">The Green Mile</a>\n",
       "<span class=\"knownfor-ellipsis\">Writer</span>\n",
       "</div>\n",
       "<div class=\"knownfor-year\"><span class=\"knownfor-ellipsis\">(1999)</span></div>\n",
       "</div>\n",
       "<div class=\"knownfor-title\">\n",
       "<div class=\"uc-add-wl-widget-container\">\n",
       "<div class=\"uc-add-wl-ribbon uc-add-wl--not-in-wl uc-add-wl\" data-is-logged-in=\"false\" data-is-watchlisted=\"false\" data-record-metric=\"true\" data-ref-tag-prefix=\"nm_knf_i2\" data-title-id=\"tt1520211\" data-uc-add-wl=\"\" data-widget-type=\"wl_ribbon\" title=\"Click to add to watchlist\">\n",
       "<div class=\"uc-add-wl-pending-container\"><div class=\"uc-add-wl-pending-icon\"></div></div>\n",
       "</div>\n",
       "<a href=\"/title/tt1520211/\"> <img alt=\"The Walking Dead\" class=\"wtw-option\" data-baseref=\"nm_knf_i\" data-tconst=\"tt1520211\" data-watchtype=\"icon\" height=\"216\" src=\"https://m.media-amazon.com/images/M/MV5BZmU5NTcwNjktODIwMi00ZmZkLTk4ZWUtYzVjZWQ5ZTZjN2RlXkEyXkFqcGdeQXVyMTkxNjUyNQ@@._V1_UX148_CR0,0,148,216_AL__QL50.jpg\" title=\"The Walking Dead\" width=\"148\"/>\n",
       "</a> </div>\n",
       "<div class=\"knownfor-title-role\">\n",
       "<a class=\"knownfor-ellipsis\" href=\"/title/tt1520211/\" title=\"The Walking Dead\">The Walking Dead</a>\n",
       "<span class=\"knownfor-ellipsis\">Writer</span>\n",
       "</div>\n",
       "<div class=\"knownfor-year\"><span class=\"knownfor-ellipsis\">(2010-2022)</span></div>\n",
       "</div>\n",
       "<div class=\"knownfor-title\">\n",
       "<div class=\"uc-add-wl-widget-container\">\n",
       "<div class=\"uc-add-wl-ribbon uc-add-wl--not-in-wl uc-add-wl\" data-is-logged-in=\"false\" data-is-watchlisted=\"false\" data-record-metric=\"true\" data-ref-tag-prefix=\"nm_knf_i3\" data-title-id=\"tt0111161\" data-uc-add-wl=\"\" data-widget-type=\"wl_ribbon\" title=\"Click to add to watchlist\">\n",
       "<div class=\"uc-add-wl-pending-container\"><div class=\"uc-add-wl-pending-icon\"></div></div>\n",
       "</div>\n",
       "<a href=\"/title/tt0111161/\"> <img alt=\"The Shawshank Redemption\" class=\"wtw-option\" data-baseref=\"nm_knf_i\" data-tconst=\"tt0111161\" data-watchtype=\"icon\" height=\"216\" src=\"https://m.media-amazon.com/images/M/MV5BMDFkYTc0MGEtZmNhMC00ZDIzLWFmNTEtODM1ZmRlYWMwMWFmXkEyXkFqcGdeQXVyMTMxODk2OTU@._V1_UX148_CR0,0,148,216_AL__QL50.jpg\" title=\"The Shawshank Redemption\" width=\"148\"/>\n",
       "</a> </div>\n",
       "<div class=\"knownfor-title-role\">\n",
       "<a class=\"knownfor-ellipsis\" href=\"/title/tt0111161/\" title=\"The Shawshank Redemption\">The Shawshank Redemption</a>\n",
       "<span class=\"knownfor-ellipsis\">Writer</span>\n",
       "</div>\n",
       "<div class=\"knownfor-year\"><span class=\"knownfor-ellipsis\">(1994)</span></div>\n",
       "</div>\n",
       "<div class=\"knownfor-title last\">\n",
       "<div class=\"uc-add-wl-widget-container\">\n",
       "<div class=\"uc-add-wl-ribbon uc-add-wl--not-in-wl uc-add-wl\" data-is-logged-in=\"false\" data-is-watchlisted=\"false\" data-record-metric=\"true\" data-ref-tag-prefix=\"nm_knf_i4\" data-title-id=\"tt0884328\" data-uc-add-wl=\"\" data-widget-type=\"wl_ribbon\" title=\"Click to add to watchlist\">\n",
       "<div class=\"uc-add-wl-pending-container\"><div class=\"uc-add-wl-pending-icon\"></div></div>\n",
       "</div>\n",
       "<a href=\"/title/tt0884328/\"> <img alt=\"The Mist\" class=\"wtw-option\" data-baseref=\"nm_knf_i\" data-tconst=\"tt0884328\" data-watchtype=\"icon\" height=\"216\" src=\"https://m.media-amazon.com/images/M/MV5BMTU2NjQyNDY1Ml5BMl5BanBnXkFtZTcwMTk1MDU1MQ@@._V1_UX148_CR0,0,148,216_AL__QL50.jpg\" title=\"The Mist\" width=\"148\"/>\n",
       "</a> </div>\n",
       "<div class=\"knownfor-title-role\">\n",
       "<a class=\"knownfor-ellipsis\" href=\"/title/tt0884328/\" title=\"The Mist\">The Mist</a>\n",
       "<span class=\"knownfor-ellipsis\">Writer</span>\n",
       "</div>\n",
       "<div class=\"knownfor-year\"><span class=\"knownfor-ellipsis\">(2007)</span></div>\n",
       "</div>\n",
       "</div>"
      ]
     },
     "execution_count": 78,
     "metadata": {},
     "output_type": "execute_result"
    }
   ],
   "source": [
    "div2"
   ]
  },
  {
   "cell_type": "code",
   "execution_count": 79,
   "id": "0efdfe9e",
   "metadata": {
    "scrolled": true
   },
   "outputs": [
    {
     "data": {
      "text/plain": [
       "bs4.element.Tag"
      ]
     },
     "execution_count": 79,
     "metadata": {},
     "output_type": "execute_result"
    }
   ],
   "source": [
    "type(div2)"
   ]
  },
  {
   "cell_type": "code",
   "execution_count": 81,
   "id": "16f004a6",
   "metadata": {
    "scrolled": true
   },
   "outputs": [
    {
     "name": "stdout",
     "output_type": "stream",
     "text": [
      "4\n",
      "The Green Mile\n",
      "The Walking Dead\n",
      "The Shawshank Redemption\n",
      "The Mist\n"
     ]
    }
   ],
   "source": [
    "for knownfor in div2:\n",
    "    Knownfor = div2.find_all('div',{'class':'knownfor-title-role'})\n",
    "    print(len(Knownfor))\n",
    "    for i in range(len(Knownfor)):\n",
    "        print(Knownfor[i].a.text)\n",
    "    break"
   ]
  },
  {
   "cell_type": "code",
   "execution_count": 85,
   "id": "7443c92d",
   "metadata": {},
   "outputs": [
    {
     "name": "stdout",
     "output_type": "stream",
     "text": [
      "Enter Movie Name : The Lord of the Rings: The Fellowship of the Ring\n",
      "Directors Name:  Peter Jackson\n",
      "Recommended Movies are : \n",
      "The Lord of the Rings: The Fellowship of the Ring\n",
      "Bad Taste\n",
      "King Kong\n",
      "The Lord of the Rings: The Two Towers\n"
     ]
    }
   ],
   "source": [
    "res = requests.get('https://www.imdb.com/chart/top/')\n",
    "html = res.text\n",
    "soup = BeautifulSoup(html,'html.parser')\n",
    "tbody = soup.find('tbody',{'class':'lister-list'})\n",
    "trs = tbody.findAll('tr')\n",
    "movieName = input(\"Enter Movie Name : \")\n",
    "movieName = movieName.lower()\n",
    "for tr in trs:\n",
    "    td = tr.find('td',{'class':'titleColumn'})\n",
    "    all_movies = td.a.string.lower()\n",
    "    if movieName == all_movies:\n",
    "        url = td.a['href']\n",
    "        movieurl = f'https://www.imdb.com/{url}'\n",
    "        r1 = requests.get(movieurl)\n",
    "        html1 = r1.text\n",
    "        soup1 = BeautifulSoup(html1, 'html.parser')\n",
    "        div1 = soup1.find('div',{'class':'ipc-metadata-list-item__content-container'})\n",
    "        print('Directors Name: ',div1.a.string)\n",
    "        dirID =  div1.a['href']\n",
    "        dirURL = f'https://www.imdb.com/{dirID}'\n",
    "        r2 = requests.get(dirURL)\n",
    "        html2 = r2.text\n",
    "        soup2 = BeautifulSoup(html2, 'html.parser')\n",
    "        div2 = soup2.find('div',{'id':'knownfor'})\n",
    "        print(\"Recommended Movies are : \")\n",
    "        for knownfor in div2:\n",
    "            Knownfor = div2.find_all('div',{'class':'knownfor-title-role'})\n",
    "            for i in range(len(Knownfor)):\n",
    "                print(Knownfor[i].a.text)\n",
    "            break"
   ]
  }
 ],
 "metadata": {
  "kernelspec": {
   "display_name": "Python 3 (ipykernel)",
   "language": "python",
   "name": "python3"
  },
  "language_info": {
   "codemirror_mode": {
    "name": "ipython",
    "version": 3
   },
   "file_extension": ".py",
   "mimetype": "text/x-python",
   "name": "python",
   "nbconvert_exporter": "python",
   "pygments_lexer": "ipython3",
   "version": "3.8.12"
  }
 },
 "nbformat": 4,
 "nbformat_minor": 5
}
